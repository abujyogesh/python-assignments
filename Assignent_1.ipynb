{
 "cells": [
  {
   "cell_type": "code",
   "execution_count": 1,
   "id": "037e6d67",
   "metadata": {},
   "outputs": [
    {
     "name": "stdout",
     "output_type": "stream",
     "text": [
      "enter base of triangle:20\n",
      "enter height of triangle:13\n",
      "area of triangle:: 130.0\n"
     ]
    }
   ],
   "source": [
    "b=float(input(\"enter base of triangle:\"))\n",
    "h=float(input(\"enter height of triangle:\"))\n",
    "a=(1/2)*(b*h)\n",
    "print(\"area of triangle::\",a)\n"
   ]
  }
 ],
 "metadata": {
  "kernelspec": {
   "display_name": "Python 3 (ipykernel)",
   "language": "python",
   "name": "python3"
  },
  "language_info": {
   "codemirror_mode": {
    "name": "ipython",
    "version": 3
   },
   "file_extension": ".py",
   "mimetype": "text/x-python",
   "name": "python",
   "nbconvert_exporter": "python",
   "pygments_lexer": "ipython3",
   "version": "3.9.13"
  }
 },
 "nbformat": 4,
 "nbformat_minor": 5
}
