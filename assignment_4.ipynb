{
 "cells": [
  {
   "cell_type": "markdown",
   "id": "e557fa64",
   "metadata": {},
   "source": [
    "# Assignment 4"
   ]
  },
  {
   "cell_type": "markdown",
   "id": "16bb5fb9",
   "metadata": {},
   "source": [
    "Set A:"
   ]
  },
  {
   "cell_type": "code",
   "execution_count": 2,
   "id": "e37f6d40",
   "metadata": {},
   "outputs": [
    {
     "name": "stdout",
     "output_type": "stream",
     "text": [
      "enter file name:abc.txt\n",
      "->string in python are array of bits\n",
      "->representing unicode character\n",
      "->python does not have \"character\" datatype\n"
     ]
    },
    {
     "data": {
      "text/plain": [
       "<function TextIOWrapper.close()>"
      ]
     },
     "execution_count": 2,
     "metadata": {},
     "output_type": "execute_result"
    }
   ],
   "source": [
    "#1.program to read an entire text file\n",
    "fname=input(\"enter file name:\")\n",
    "f=open(fname,\"r\")\n",
    "s=f.read()\n",
    "print(s)\n",
    "f.close"
   ]
  },
  {
   "cell_type": "code",
   "execution_count": 7,
   "id": "e66c6027",
   "metadata": {},
   "outputs": [
    {
     "name": "stdout",
     "output_type": "stream",
     "text": [
      "enter file name:abc.txt\n",
      "words= 15\n",
      "characters= 90\n",
      "lines= 3\n"
     ]
    }
   ],
   "source": [
    "#2.program to compute the number characters,words and lines in a file\n",
    "fname=input(\"enter file name:\")\n",
    "f1=open(fname,\"r\")\n",
    "s=f1.read()\n",
    "w=0\n",
    "c=0\n",
    "\n",
    "\n",
    "for ch in s:\n",
    "    if ch.isalpha():\n",
    "        c=c+1\n",
    "    elif ch.isspace():\n",
    "        w=w+1\n",
    "    \n",
    "\n",
    "f1.close()\n",
    "f1=open(fname,\"r\")\n",
    "l=len(f1.readlines())\n",
    "print(\"words=\",w)\n",
    "print(\"characters=\",c)\n",
    "print(\"lines=\",l)\n",
    "f1.close()"
   ]
  },
  {
   "cell_type": "code",
   "execution_count": 8,
   "id": "f2d74bc5",
   "metadata": {},
   "outputs": [
    {
     "name": "stdout",
     "output_type": "stream",
     "text": [
      "current date and time\n",
      "22 12 18 21:15:47\n"
     ]
    }
   ],
   "source": [
    "#3.print the date in given format\n",
    "import datetime\n",
    "now=datetime.datetime.now()\n",
    "print(\"current date and time\")\n",
    "print(now.strftime(\"%y %m %d %H:%M:%S\"))"
   ]
  },
  {
   "cell_type": "markdown",
   "id": "ff19412c",
   "metadata": {},
   "source": [
    "Set B:"
   ]
  },
  {
   "cell_type": "code",
   "execution_count": 9,
   "id": "eb7b0d17",
   "metadata": {},
   "outputs": [
    {
     "name": "stdout",
     "output_type": "stream",
     "text": [
      "enter text to appendhii \n",
      "->string in python are array of bits\n",
      "->representing unicode character\n",
      "->python does not have \"character\" datatypehii \n"
     ]
    }
   ],
   "source": [
    "#1.python program to append text to a file and display the text\n",
    "f1=open(\"abc.txt\",\"a\")\n",
    "s=input(\"enter text to append\")\n",
    "f1.write(s)\n",
    "f1.close()\n",
    "f1=open(\"abc.txt\",\"r\")\n",
    "print(f1.read())\n",
    "f1.close()"
   ]
  },
  {
   "cell_type": "code",
   "execution_count": 10,
   "id": "cc3118ad",
   "metadata": {},
   "outputs": [
    {
     "name": "stdout",
     "output_type": "stream",
     "text": [
      "enter file nameabc.txt\n",
      "\n",
      "stib fo yarra era nohtyp ni gnirts>-\n",
      "\n",
      "retcarahc edocinu gnitneserper>-\n",
      " iihepytatad \"retcarahc\" evah ton seod nohtyp>-\n"
     ]
    }
   ],
   "source": [
    "#2.python program to print each line of file in reversed order\n",
    "fname=input(\"enter file name\")\n",
    "f1=open(fname)\n",
    "\n",
    "for s in f1:\n",
    "    s1=\"\".join(reversed(s))\n",
    "    print(s1)\n",
    "f1.close()"
   ]
  },
  {
   "cell_type": "code",
   "execution_count": 11,
   "id": "a2cede02",
   "metadata": {},
   "outputs": [
    {
     "name": "stdout",
     "output_type": "stream",
     "text": [
      "current date and time\n",
      "22 12 18 21:24:48\n"
     ]
    }
   ],
   "source": [
    "#3.print the date in given format\n",
    "import datetime\n",
    "now=datetime.datetime.now()\n",
    "print(\"current date and time\")\n",
    "print(now.strftime(\"%y %m %d %H:%M:%S\"))"
   ]
  }
 ],
 "metadata": {
  "kernelspec": {
   "display_name": "Python 3 (ipykernel)",
   "language": "python",
   "name": "python3"
  },
  "language_info": {
   "codemirror_mode": {
    "name": "ipython",
    "version": 3
   },
   "file_extension": ".py",
   "mimetype": "text/x-python",
   "name": "python",
   "nbconvert_exporter": "python",
   "pygments_lexer": "ipython3",
   "version": "3.9.13"
  }
 },
 "nbformat": 4,
 "nbformat_minor": 5
}
